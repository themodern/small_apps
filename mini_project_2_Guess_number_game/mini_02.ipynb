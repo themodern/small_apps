{
 "cells": [
  {
   "cell_type": "code",
   "execution_count": 2,
   "metadata": {},
   "outputs": [],
   "source": [
    "#building a number guessing game\n",
    "import random"
   ]
  },
  {
   "attachments": {},
   "cell_type": "markdown",
   "metadata": {},
   "source": [
    "# set a random_num variable where the random number will between 1 and 10"
   ]
  },
  {
   "cell_type": "code",
   "execution_count": 3,
   "metadata": {},
   "outputs": [
    {
     "data": {
      "text/plain": [
       "4"
      ]
     },
     "execution_count": 3,
     "metadata": {},
     "output_type": "execute_result"
    }
   ],
   "source": [
    "num_start = 1\n",
    "num_end = 10\n",
    "random_num = random.randint(num_start, num_end)\n",
    "random_num"
   ]
  },
  {
   "cell_type": "code",
   "execution_count": 9,
   "metadata": {},
   "outputs": [
    {
     "name": "stdout",
     "output_type": "stream",
     "text": [
      "Your guess is 1\n",
      "The number is higher. You have 4 guess left\n",
      "Your guess is 2\n",
      "The number is higher. You have 3 guess left\n",
      "Your guess is 3\n",
      "The number is higher. You have 2 guess left\n",
      "Your guess is 4\n",
      "Good job, you win! You got it in 4 guesses!\n"
     ]
    }
   ],
   "source": [
    "max_guess = 5\n",
    "guess = 1\n",
    "while True:\n",
    "    if max_guess <= 0:\n",
    "            print(\"You lose!\")\n",
    "            break\n",
    "    my_guess = input(\"Make a guess, enter a number between 1 and 10: \")\n",
    "    \n",
    "    if my_guess.isdigit():\n",
    "        my_guess = int(my_guess)\n",
    "        if random_num == my_guess:\n",
    "            print(f\"Your guess is {my_guess}\")\n",
    "            print(f\"Good job, you win! You got it in {guess} guesses!\")\n",
    "            break# stop the loop\n",
    "        elif random_num > my_guess:\n",
    "            max_guess -= 1\n",
    "            guess += 1\n",
    "            print(f\"Your guess is {my_guess}\")\n",
    "            print(f\"The number is higher. You have {max_guess} guesses left\")\n",
    "            continue\n",
    "        elif random_num < my_guess:\n",
    "            guess += 1\n",
    "            max_guess -= 1\n",
    "            print(f\"Your guess is {my_guess}\")\n",
    "            print(f\"The number is lower. You have {max_guess} guesses left\")\n",
    "            continue\n",
    "    else:\n",
    "        print(\"it is not a number, please enter a number between 1 to 10 again: \")\n",
    "        continue"
   ]
  },
  {
   "cell_type": "code",
   "execution_count": null,
   "metadata": {},
   "outputs": [],
   "source": []
  }
 ],
 "metadata": {
  "kernelspec": {
   "display_name": "base",
   "language": "python",
   "name": "python3"
  },
  "language_info": {
   "codemirror_mode": {
    "name": "ipython",
    "version": 3
   },
   "file_extension": ".py",
   "mimetype": "text/x-python",
   "name": "python",
   "nbconvert_exporter": "python",
   "pygments_lexer": "ipython3",
   "version": "3.9.16"
  },
  "orig_nbformat": 4
 },
 "nbformat": 4,
 "nbformat_minor": 2
}
