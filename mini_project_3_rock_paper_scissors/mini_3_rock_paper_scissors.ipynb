{
 "cells": [
  {
   "cell_type": "code",
   "execution_count": 2,
   "metadata": {},
   "outputs": [
    {
     "name": "stdout",
     "output_type": "stream",
     "text": [
      "this is a rock paper scissors game\n"
     ]
    }
   ],
   "source": [
    "print(\"this is a rock paper scissors game\")\n",
    "import random"
   ]
  },
  {
   "cell_type": "code",
   "execution_count": 8,
   "metadata": {},
   "outputs": [
    {
     "name": "stdout",
     "output_type": "stream",
     "text": [
      "Round 1 ****\n",
      "Your input: rock\n",
      "Computer input: rock\n",
      "this is a draw\n",
      "Your score: 0\n",
      "Computer score: 0\n",
      "\n",
      "\n",
      "Round 2 ****\n",
      "Your input: rock\n",
      "Computer input: paper\n",
      "paper beats rock. You lose.\n",
      "Your score: 0\n",
      "Computer score: 1\n",
      "\n",
      "\n",
      "Round 3 ****\n",
      "Your input: paper\n",
      "Computer input: scissors\n",
      "scissors beats paper. You lose.\n",
      "Your score: 0\n",
      "Computer score: 2\n",
      "\n",
      "\n",
      "---------------------\n",
      "Game over\n",
      "Your score: 0\n",
      "Computer score: 2\n",
      "You lose the game\n"
     ]
    }
   ],
   "source": [
    "user_score = 0\n",
    "computer_score = 0\n",
    "action_list = ['rock', 'paper', 'scissors']\n",
    "round = 1\n",
    "while True:\n",
    "    if round == 4:\n",
    "        print(\"---------------------\")\n",
    "        print(\"Game over\")\n",
    "        if user_score > computer_score:\n",
    "            print(f\"Your score: {user_score}\")\n",
    "            print(f\"Computer score: {computer_score}\")\n",
    "            print(\"You won the game\")\n",
    "            break\n",
    "        else :\n",
    "            print(f\"Your score: {user_score}\")\n",
    "            print(f\"Computer score: {computer_score}\")\n",
    "            print(\"You lose the game\")\n",
    "            break\n",
    "\n",
    "    user_input = input(\"Enter a choice (rock, paper, scissors): or type 'quit' to quit the game: \").lower()\n",
    "    #computer will randomly choose between rock, paper, scissors\n",
    "    computer_input = random.choice(action_list)\n",
    "\n",
    "    if user_input == \"quit\":\n",
    "        break\n",
    "    if user_input not in action_list:\n",
    "        print(\"Please enter a valid input, 'rock, paper or scissors'\")\n",
    "        continue\n",
    "    if user_input == computer_input:\n",
    "        print(f\"Round {round} ****\")\n",
    "        print(f\"Your input: {user_input}\")\n",
    "        print(f\"Computer input: {computer_input}\")\n",
    "        print(\"this is a draw\")\n",
    "        print(f\"Your score: {user_score}\")\n",
    "        print(f\"Computer score: {computer_score}\")\n",
    "        print(\"\\n\")\n",
    "        round += 1\n",
    "        continue\n",
    "\n",
    "    if ((user_input == \"rock\") & (computer_input == \"scissors\")) | \\\n",
    "       ((user_input == \"scissors\") & (computer_input == \"paper\")) | \\\n",
    "       ((user_input == \"paper\") & (computer_input == \"rock\")) :\n",
    "        print(f\"Round {round} ****\")\n",
    "        print(f\"Your input: {user_input}\")\n",
    "        print(f\"Computer input: {computer_input}\")\n",
    "        print(f'{user_input} beats {computer_input}. You win.')\n",
    "        user_score += 1\n",
    "        round += 1\n",
    "        print(f\"Your score: {user_score}\")\n",
    "        print(f\"Computer score: {computer_score}\")\n",
    "        print(\"\\n\")\n",
    "\n",
    "    else:\n",
    "        print(f\"Round {round} ****\")\n",
    "        print(f\"Your input: {user_input}\")\n",
    "        print(f\"Computer input: {computer_input}\")\n",
    "        print(f\"{computer_input} beats {user_input}. You lose.\")\n",
    "        computer_score += 1\n",
    "        round += 1\n",
    "        print(f\"Your score: {user_score}\")\n",
    "        print(f\"Computer score: {computer_score}\")\n",
    "        print(\"\\n\")\n",
    "        continue"
   ]
  },
  {
   "cell_type": "code",
   "execution_count": null,
   "metadata": {},
   "outputs": [],
   "source": []
  },
  {
   "attachments": {},
   "cell_type": "markdown",
   "metadata": {},
   "source": []
  }
 ],
 "metadata": {
  "kernelspec": {
   "display_name": "base",
   "language": "python",
   "name": "python3"
  },
  "language_info": {
   "codemirror_mode": {
    "name": "ipython",
    "version": 3
   },
   "file_extension": ".py",
   "mimetype": "text/x-python",
   "name": "python",
   "nbconvert_exporter": "python",
   "pygments_lexer": "ipython3",
   "version": "3.9.16"
  },
  "orig_nbformat": 4
 },
 "nbformat": 4,
 "nbformat_minor": 2
}
