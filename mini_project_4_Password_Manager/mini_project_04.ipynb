{
 "cells": [
  {
   "cell_type": "code",
   "execution_count": 3,
   "metadata": {},
   "outputs": [],
   "source": [
    "from cryptography.fernet import Fernet\n",
    "\n",
    "# pwd = input(\"What is the master password? \")\n",
    "# mode = input(\"view or add passwords? \").lower()\n",
    "\n",
    "def write_key():\n",
    "    key = Fernet.generate_key()\n",
    "    with open(\"key.key\", \"wb\") as key_file:\n",
    "        key_file.write(key)\n",
    "\n",
    "# def view():\n",
    "#     print(\"Viewing passwords\")\n",
    "#     with open('passwords.txt', 'r') as f:\n",
    "#         for line in f.readlines():\n",
    "#             info = line.strip()\n",
    "#             print(f'name: {info.split(\"|\")[0]} pwd: {info.split(\"|\")[1]}')\n",
    "            \n",
    "\n",
    "\n",
    "# def add():\n",
    "#     print(\"Adding passwords\")\n",
    "#     name = input(\"Account name: \")\n",
    "#     pwd = input(\"Password: \")\n",
    "#     with open('passwords.txt', 'a') as f: #append the file\n",
    "#         f.write(name + \" | \" + pwd + \"\\n\")\n",
    "\n",
    "# while True:\n",
    "#     if mode == \"view\":\n",
    "#         view()\n",
    "#     elif mode == \"add\":\n",
    "#         add()\n",
    "#     else:\n",
    "#         print(\"Invalid mode selected.\")\n",
    "#         continue"
   ]
  },
  {
   "cell_type": "code",
   "execution_count": null,
   "metadata": {},
   "outputs": [],
   "source": []
  }
 ],
 "metadata": {
  "kernelspec": {
   "display_name": "base",
   "language": "python",
   "name": "python3"
  },
  "language_info": {
   "codemirror_mode": {
    "name": "ipython",
    "version": 3
   },
   "file_extension": ".py",
   "mimetype": "text/x-python",
   "name": "python",
   "nbconvert_exporter": "python",
   "pygments_lexer": "ipython3",
   "version": "3.9.16"
  },
  "orig_nbformat": 4
 },
 "nbformat": 4,
 "nbformat_minor": 2
}
