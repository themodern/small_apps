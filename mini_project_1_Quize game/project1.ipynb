{
 "cells": [
  {
   "cell_type": "code",
   "execution_count": 1,
   "metadata": {},
   "outputs": [
    {
     "name": "stdout",
     "output_type": "stream",
     "text": [
      "Welcome to my computer quiz\n"
     ]
    }
   ],
   "source": [
    "print(\"Welcome to my computer quiz\")"
   ]
  },
  {
   "cell_type": "code",
   "execution_count": 1,
   "metadata": {},
   "outputs": [
    {
     "name": "stdout",
     "output_type": "stream",
     "text": [
      "yes\n",
      "Okay! Let's play :)\n"
     ]
    }
   ],
   "source": [
    "play = input(\"Do you want to play? \")\n",
    "if play.lower() != \"yes\":\n",
    "    quit()\n",
    "\n",
    "print (play)\n",
    "print(\"Okay! Let's play :)\")"
   ]
  },
  {
   "cell_type": "code",
   "execution_count": 24,
   "metadata": {},
   "outputs": [
    {
     "name": "stdout",
     "output_type": "stream",
     "text": [
      "asd -- sorry you are wrong :(\n"
     ]
    }
   ],
   "source": [
    "score = 0\n",
    "\n",
    "answer1 = input (\"What does CPU stand for? \")\n",
    "if answer1.lower() == \"central processing unit\":\n",
    "    score += 1\n",
    "    print(f\"{answer1} -- Correct!\")\n",
    "    \n",
    "else:\n",
    "    print(f\"{answer1} -- sorry you are wrong :(\")"
   ]
  },
  {
   "cell_type": "code",
   "execution_count": 49,
   "metadata": {},
   "outputs": [],
   "source": [
    "class Quiz:\n",
    "    def __init__(self):\n",
    "        self.current_score = 0\n",
    "\n",
    "    def set_questions(self, question, answer):\n",
    "        answer1 = input (question + \" \")\n",
    "        if answer1.lower() == answer:\n",
    "            self.current_score += 1\n",
    "            print(f\"Your answer:{answer1} -- Correct! Your score is {self.current_score}\")\n",
    "        else:\n",
    "            print(f\"Your answer:{answer1} -- sorry you are wrong. \\nCorrect answer is {answer}, \\nYour score is {self.current_score}\")"
   ]
  },
  {
   "cell_type": "code",
   "execution_count": 50,
   "metadata": {},
   "outputs": [
    {
     "name": "stdout",
     "output_type": "stream",
     "text": [
      "Your answer:central processing unit -- Correct! Your score is 1\n",
      "Your answer:central processing unit -- Correct! Your score is 2\n"
     ]
    }
   ],
   "source": [
    "question = \"What does CPU stand for?\"\n",
    "answer = \"central processing unit\"\n",
    "question1 = \"What does GPU stand for?\"\n",
    "answer1 = \"graphical processing unit\"\n",
    "quiz = Quiz()  \n",
    "quiz.set_questions( question = question, answer = answer)\n",
    "quiz.set_questions( question = question1, answer = answer1)"
   ]
  },
  {
   "cell_type": "code",
   "execution_count": 29,
   "metadata": {},
   "outputs": [
    {
     "data": {
      "text/plain": [
       "0"
      ]
     },
     "execution_count": 29,
     "metadata": {},
     "output_type": "execute_result"
    }
   ],
   "source": [
    "current_score"
   ]
  },
  {
   "cell_type": "code",
   "execution_count": null,
   "metadata": {},
   "outputs": [],
   "source": []
  }
 ],
 "metadata": {
  "kernelspec": {
   "display_name": "base",
   "language": "python",
   "name": "python3"
  },
  "language_info": {
   "codemirror_mode": {
    "name": "ipython",
    "version": 3
   },
   "file_extension": ".py",
   "mimetype": "text/x-python",
   "name": "python",
   "nbconvert_exporter": "python",
   "pygments_lexer": "ipython3",
   "version": "3.9.16"
  },
  "orig_nbformat": 4
 },
 "nbformat": 4,
 "nbformat_minor": 2
}
